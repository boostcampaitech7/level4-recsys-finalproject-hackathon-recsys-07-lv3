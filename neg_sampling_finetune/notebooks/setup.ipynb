{
 "cells": [
  {
   "cell_type": "code",
   "execution_count": 1,
   "metadata": {},
   "outputs": [],
   "source": [
    "import os\n",
    "\n",
    "import pandas as pd\n",
    "import numpy as np\n",
    "import torch\n",
    "\n",
    "from sklearn.model_selection import train_test_split\n",
    "\n",
    "import warnings\n",
    "warnings.filterwarnings(\"ignore\")"
   ]
  },
  {
   "cell_type": "code",
   "execution_count": null,
   "metadata": {},
   "outputs": [],
   "source": [
    "# set seed\n",
    "seed = 42\n",
    "np.random.seed(seed)\n",
    "torch.manual_seed(seed)\n",
    "torch.cuda.manual_seed(seed)\n",
    "torch.cuda.manual_seed_all(seed)\n",
    "torch.backends.cudnn.deterministic = True\n",
    "torch.backends.cudnn.benchmark = False"
   ]
  },
  {
   "cell_type": "code",
   "execution_count": 3,
   "metadata": {},
   "outputs": [],
   "source": [
    "path = '/data/ephemeral/home/data/ml-20m/'\n",
    "save_path = '/data/ephemeral/home/data/cold/'\n",
    "df = pd.read_csv(path + 'ml-20m.inter', sep='\\t', header=0)"
   ]
  },
  {
   "cell_type": "code",
   "execution_count": null,
   "metadata": {},
   "outputs": [
    {
     "data": {
      "text/html": [
       "<div>\n",
       "<style scoped>\n",
       "    .dataframe tbody tr th:only-of-type {\n",
       "        vertical-align: middle;\n",
       "    }\n",
       "\n",
       "    .dataframe tbody tr th {\n",
       "        vertical-align: top;\n",
       "    }\n",
       "\n",
       "    .dataframe thead th {\n",
       "        text-align: right;\n",
       "    }\n",
       "</style>\n",
       "<table border=\"1\" class=\"dataframe\">\n",
       "  <thead>\n",
       "    <tr style=\"text-align: right;\">\n",
       "      <th></th>\n",
       "      <th>user_id:token</th>\n",
       "      <th>item_id:token</th>\n",
       "      <th>rating:float</th>\n",
       "      <th>timestamp:float</th>\n",
       "    </tr>\n",
       "  </thead>\n",
       "  <tbody>\n",
       "    <tr>\n",
       "      <th>0</th>\n",
       "      <td>1</td>\n",
       "      <td>2</td>\n",
       "      <td>3.5</td>\n",
       "      <td>1112486027</td>\n",
       "    </tr>\n",
       "    <tr>\n",
       "      <th>1</th>\n",
       "      <td>1</td>\n",
       "      <td>29</td>\n",
       "      <td>3.5</td>\n",
       "      <td>1112484676</td>\n",
       "    </tr>\n",
       "    <tr>\n",
       "      <th>2</th>\n",
       "      <td>1</td>\n",
       "      <td>32</td>\n",
       "      <td>3.5</td>\n",
       "      <td>1112484819</td>\n",
       "    </tr>\n",
       "    <tr>\n",
       "      <th>3</th>\n",
       "      <td>1</td>\n",
       "      <td>47</td>\n",
       "      <td>3.5</td>\n",
       "      <td>1112484727</td>\n",
       "    </tr>\n",
       "    <tr>\n",
       "      <th>4</th>\n",
       "      <td>1</td>\n",
       "      <td>50</td>\n",
       "      <td>3.5</td>\n",
       "      <td>1112484580</td>\n",
       "    </tr>\n",
       "    <tr>\n",
       "      <th>...</th>\n",
       "      <td>...</td>\n",
       "      <td>...</td>\n",
       "      <td>...</td>\n",
       "      <td>...</td>\n",
       "    </tr>\n",
       "    <tr>\n",
       "      <th>20000258</th>\n",
       "      <td>138493</td>\n",
       "      <td>68954</td>\n",
       "      <td>4.5</td>\n",
       "      <td>1258126920</td>\n",
       "    </tr>\n",
       "    <tr>\n",
       "      <th>20000259</th>\n",
       "      <td>138493</td>\n",
       "      <td>69526</td>\n",
       "      <td>4.5</td>\n",
       "      <td>1259865108</td>\n",
       "    </tr>\n",
       "    <tr>\n",
       "      <th>20000260</th>\n",
       "      <td>138493</td>\n",
       "      <td>69644</td>\n",
       "      <td>3.0</td>\n",
       "      <td>1260209457</td>\n",
       "    </tr>\n",
       "    <tr>\n",
       "      <th>20000261</th>\n",
       "      <td>138493</td>\n",
       "      <td>70286</td>\n",
       "      <td>5.0</td>\n",
       "      <td>1258126944</td>\n",
       "    </tr>\n",
       "    <tr>\n",
       "      <th>20000262</th>\n",
       "      <td>138493</td>\n",
       "      <td>71619</td>\n",
       "      <td>2.5</td>\n",
       "      <td>1255811136</td>\n",
       "    </tr>\n",
       "  </tbody>\n",
       "</table>\n",
       "<p>20000263 rows × 4 columns</p>\n",
       "</div>"
      ],
      "text/plain": [
       "          user_id:token  item_id:token  rating:float  timestamp:float\n",
       "0                     1              2           3.5       1112486027\n",
       "1                     1             29           3.5       1112484676\n",
       "2                     1             32           3.5       1112484819\n",
       "3                     1             47           3.5       1112484727\n",
       "4                     1             50           3.5       1112484580\n",
       "...                 ...            ...           ...              ...\n",
       "20000258         138493          68954           4.5       1258126920\n",
       "20000259         138493          69526           4.5       1259865108\n",
       "20000260         138493          69644           3.0       1260209457\n",
       "20000261         138493          70286           5.0       1258126944\n",
       "20000262         138493          71619           2.5       1255811136\n",
       "\n",
       "[20000263 rows x 4 columns]"
      ]
     },
     "execution_count": 4,
     "metadata": {},
     "output_type": "execute_result"
    }
   ],
   "source": [
    "df"
   ]
  },
  {
   "cell_type": "markdown",
   "metadata": {},
   "source": [
    "타임스탬프의 오름차순으로 정렬이 되어있지 않음"
   ]
  },
  {
   "cell_type": "markdown",
   "metadata": {},
   "source": [
    "## 시간 순 정렬"
   ]
  },
  {
   "cell_type": "code",
   "execution_count": 5,
   "metadata": {},
   "outputs": [],
   "source": [
    "df = df.groupby('user_id:token', group_keys=False).apply(lambda x: x.sort_values('timestamp:float'))"
   ]
  },
  {
   "cell_type": "markdown",
   "metadata": {},
   "source": [
    "## Rating filtering"
   ]
  },
  {
   "cell_type": "code",
   "execution_count": 6,
   "metadata": {},
   "outputs": [],
   "source": [
    "# rating 3 이상만 남기기\n",
    "df = df[df['rating:float'] > 2.5]"
   ]
  },
  {
   "cell_type": "code",
   "execution_count": 7,
   "metadata": {},
   "outputs": [],
   "source": [
    "df.drop(columns=['rating:float', 'timestamp:float'], inplace=True)"
   ]
  },
  {
   "cell_type": "code",
   "execution_count": 8,
   "metadata": {},
   "outputs": [
    {
     "data": {
      "text/html": [
       "<div>\n",
       "<style scoped>\n",
       "    .dataframe tbody tr th:only-of-type {\n",
       "        vertical-align: middle;\n",
       "    }\n",
       "\n",
       "    .dataframe tbody tr th {\n",
       "        vertical-align: top;\n",
       "    }\n",
       "\n",
       "    .dataframe thead th {\n",
       "        text-align: right;\n",
       "    }\n",
       "</style>\n",
       "<table border=\"1\" class=\"dataframe\">\n",
       "  <thead>\n",
       "    <tr style=\"text-align: right;\">\n",
       "      <th></th>\n",
       "      <th>user_id:token</th>\n",
       "      <th>item_id:token</th>\n",
       "    </tr>\n",
       "  </thead>\n",
       "  <tbody>\n",
       "    <tr>\n",
       "      <th>20</th>\n",
       "      <td>1</td>\n",
       "      <td>924</td>\n",
       "    </tr>\n",
       "    <tr>\n",
       "      <th>19</th>\n",
       "      <td>1</td>\n",
       "      <td>919</td>\n",
       "    </tr>\n",
       "    <tr>\n",
       "      <th>86</th>\n",
       "      <td>1</td>\n",
       "      <td>2683</td>\n",
       "    </tr>\n",
       "    <tr>\n",
       "      <th>61</th>\n",
       "      <td>1</td>\n",
       "      <td>1584</td>\n",
       "    </tr>\n",
       "    <tr>\n",
       "      <th>23</th>\n",
       "      <td>1</td>\n",
       "      <td>1079</td>\n",
       "    </tr>\n",
       "    <tr>\n",
       "      <th>...</th>\n",
       "      <td>...</td>\n",
       "      <td>...</td>\n",
       "    </tr>\n",
       "    <tr>\n",
       "      <th>20000140</th>\n",
       "      <td>138493</td>\n",
       "      <td>6534</td>\n",
       "    </tr>\n",
       "    <tr>\n",
       "      <th>20000242</th>\n",
       "      <td>138493</td>\n",
       "      <td>53464</td>\n",
       "    </tr>\n",
       "    <tr>\n",
       "      <th>19999965</th>\n",
       "      <td>138493</td>\n",
       "      <td>1275</td>\n",
       "    </tr>\n",
       "    <tr>\n",
       "      <th>20000154</th>\n",
       "      <td>138493</td>\n",
       "      <td>6996</td>\n",
       "    </tr>\n",
       "    <tr>\n",
       "      <th>19999916</th>\n",
       "      <td>138493</td>\n",
       "      <td>405</td>\n",
       "    </tr>\n",
       "  </tbody>\n",
       "</table>\n",
       "<p>16486759 rows × 2 columns</p>\n",
       "</div>"
      ],
      "text/plain": [
       "          user_id:token  item_id:token\n",
       "20                    1            924\n",
       "19                    1            919\n",
       "86                    1           2683\n",
       "61                    1           1584\n",
       "23                    1           1079\n",
       "...                 ...            ...\n",
       "20000140         138493           6534\n",
       "20000242         138493          53464\n",
       "19999965         138493           1275\n",
       "20000154         138493           6996\n",
       "19999916         138493            405\n",
       "\n",
       "[16486759 rows x 2 columns]"
      ]
     },
     "execution_count": 8,
     "metadata": {},
     "output_type": "execute_result"
    }
   ],
   "source": [
    "df"
   ]
  },
  {
   "cell_type": "markdown",
   "metadata": {},
   "source": [
    "20000263 -> 16486759(-17.56%) 인터랙션 수 변동"
   ]
  },
  {
   "cell_type": "code",
   "execution_count": 9,
   "metadata": {},
   "outputs": [],
   "source": [
    "df.rename(columns={'user_id:token': 'user_id', 'item_id:token': 'item_id'}, inplace=True)"
   ]
  },
  {
   "cell_type": "code",
   "execution_count": 10,
   "metadata": {},
   "outputs": [
    {
     "data": {
      "text/html": [
       "<div>\n",
       "<style scoped>\n",
       "    .dataframe tbody tr th:only-of-type {\n",
       "        vertical-align: middle;\n",
       "    }\n",
       "\n",
       "    .dataframe tbody tr th {\n",
       "        vertical-align: top;\n",
       "    }\n",
       "\n",
       "    .dataframe thead th {\n",
       "        text-align: right;\n",
       "    }\n",
       "</style>\n",
       "<table border=\"1\" class=\"dataframe\">\n",
       "  <thead>\n",
       "    <tr style=\"text-align: right;\">\n",
       "      <th></th>\n",
       "      <th>user_id</th>\n",
       "      <th>item_id</th>\n",
       "    </tr>\n",
       "  </thead>\n",
       "  <tbody>\n",
       "    <tr>\n",
       "      <th>20</th>\n",
       "      <td>1</td>\n",
       "      <td>924</td>\n",
       "    </tr>\n",
       "    <tr>\n",
       "      <th>19</th>\n",
       "      <td>1</td>\n",
       "      <td>919</td>\n",
       "    </tr>\n",
       "    <tr>\n",
       "      <th>86</th>\n",
       "      <td>1</td>\n",
       "      <td>2683</td>\n",
       "    </tr>\n",
       "    <tr>\n",
       "      <th>61</th>\n",
       "      <td>1</td>\n",
       "      <td>1584</td>\n",
       "    </tr>\n",
       "    <tr>\n",
       "      <th>23</th>\n",
       "      <td>1</td>\n",
       "      <td>1079</td>\n",
       "    </tr>\n",
       "    <tr>\n",
       "      <th>...</th>\n",
       "      <td>...</td>\n",
       "      <td>...</td>\n",
       "    </tr>\n",
       "    <tr>\n",
       "      <th>20000140</th>\n",
       "      <td>138493</td>\n",
       "      <td>6534</td>\n",
       "    </tr>\n",
       "    <tr>\n",
       "      <th>20000242</th>\n",
       "      <td>138493</td>\n",
       "      <td>53464</td>\n",
       "    </tr>\n",
       "    <tr>\n",
       "      <th>19999965</th>\n",
       "      <td>138493</td>\n",
       "      <td>1275</td>\n",
       "    </tr>\n",
       "    <tr>\n",
       "      <th>20000154</th>\n",
       "      <td>138493</td>\n",
       "      <td>6996</td>\n",
       "    </tr>\n",
       "    <tr>\n",
       "      <th>19999916</th>\n",
       "      <td>138493</td>\n",
       "      <td>405</td>\n",
       "    </tr>\n",
       "  </tbody>\n",
       "</table>\n",
       "<p>16486759 rows × 2 columns</p>\n",
       "</div>"
      ],
      "text/plain": [
       "          user_id  item_id\n",
       "20              1      924\n",
       "19              1      919\n",
       "86              1     2683\n",
       "61              1     1584\n",
       "23              1     1079\n",
       "...           ...      ...\n",
       "20000140   138493     6534\n",
       "20000242   138493    53464\n",
       "19999965   138493     1275\n",
       "20000154   138493     6996\n",
       "19999916   138493      405\n",
       "\n",
       "[16486759 rows x 2 columns]"
      ]
     },
     "execution_count": 10,
     "metadata": {},
     "output_type": "execute_result"
    }
   ],
   "source": [
    "df"
   ]
  },
  {
   "cell_type": "code",
   "execution_count": 11,
   "metadata": {},
   "outputs": [
    {
     "data": {
      "text/plain": [
       "count    138445.000000\n",
       "mean        119.085261\n",
       "std         178.699187\n",
       "min           1.000000\n",
       "25%          30.000000\n",
       "50%          59.000000\n",
       "75%         133.000000\n",
       "max        8241.000000\n",
       "dtype: float64"
      ]
     },
     "execution_count": 11,
     "metadata": {},
     "output_type": "execute_result"
    }
   ],
   "source": [
    "df.groupby('user_id').size().describe()"
   ]
  },
  {
   "cell_type": "markdown",
   "metadata": {},
   "source": [
    "## 20-core filtering"
   ]
  },
  {
   "cell_type": "code",
   "execution_count": 12,
   "metadata": {},
   "outputs": [],
   "source": [
    "df = df.groupby('user_id').filter(lambda x: len(x) >= 20)"
   ]
  },
  {
   "cell_type": "code",
   "execution_count": 13,
   "metadata": {},
   "outputs": [
    {
     "data": {
      "text/plain": [
       "count    126972.000000\n",
       "mean        128.442554\n",
       "std         183.741964\n",
       "min          20.000000\n",
       "25%          35.000000\n",
       "50%          66.000000\n",
       "75%         144.000000\n",
       "max        8241.000000\n",
       "dtype: float64"
      ]
     },
     "execution_count": 13,
     "metadata": {},
     "output_type": "execute_result"
    }
   ],
   "source": [
    "df.groupby('user_id').size().describe()"
   ]
  },
  {
   "cell_type": "markdown",
   "metadata": {},
   "source": [
    "138445 -> 126972(-8.29%) 유저 수 변동"
   ]
  },
  {
   "cell_type": "code",
   "execution_count": 14,
   "metadata": {},
   "outputs": [
    {
     "data": {
      "text/plain": [
       "count    24790.000000\n",
       "mean       657.870432\n",
       "std       2786.483233\n",
       "min          1.000000\n",
       "25%          3.000000\n",
       "50%         17.000000\n",
       "75%        176.000000\n",
       "max      61307.000000\n",
       "dtype: float64"
      ]
     },
     "execution_count": 14,
     "metadata": {},
     "output_type": "execute_result"
    }
   ],
   "source": [
    "df.groupby('item_id').size().describe()"
   ]
  },
  {
   "cell_type": "markdown",
   "metadata": {},
   "source": [
    "item에 대해서는 20-core filtering 진행하지 않음, item 다양성 보전"
   ]
  },
  {
   "cell_type": "code",
   "execution_count": 15,
   "metadata": {},
   "outputs": [
    {
     "data": {
      "text/html": [
       "<div>\n",
       "<style scoped>\n",
       "    .dataframe tbody tr th:only-of-type {\n",
       "        vertical-align: middle;\n",
       "    }\n",
       "\n",
       "    .dataframe tbody tr th {\n",
       "        vertical-align: top;\n",
       "    }\n",
       "\n",
       "    .dataframe thead th {\n",
       "        text-align: right;\n",
       "    }\n",
       "</style>\n",
       "<table border=\"1\" class=\"dataframe\">\n",
       "  <thead>\n",
       "    <tr style=\"text-align: right;\">\n",
       "      <th></th>\n",
       "      <th>user_id</th>\n",
       "      <th>item_id</th>\n",
       "    </tr>\n",
       "  </thead>\n",
       "  <tbody>\n",
       "    <tr>\n",
       "      <th>20</th>\n",
       "      <td>1</td>\n",
       "      <td>924</td>\n",
       "    </tr>\n",
       "    <tr>\n",
       "      <th>19</th>\n",
       "      <td>1</td>\n",
       "      <td>919</td>\n",
       "    </tr>\n",
       "    <tr>\n",
       "      <th>86</th>\n",
       "      <td>1</td>\n",
       "      <td>2683</td>\n",
       "    </tr>\n",
       "    <tr>\n",
       "      <th>61</th>\n",
       "      <td>1</td>\n",
       "      <td>1584</td>\n",
       "    </tr>\n",
       "    <tr>\n",
       "      <th>23</th>\n",
       "      <td>1</td>\n",
       "      <td>1079</td>\n",
       "    </tr>\n",
       "    <tr>\n",
       "      <th>...</th>\n",
       "      <td>...</td>\n",
       "      <td>...</td>\n",
       "    </tr>\n",
       "    <tr>\n",
       "      <th>20000140</th>\n",
       "      <td>138493</td>\n",
       "      <td>6534</td>\n",
       "    </tr>\n",
       "    <tr>\n",
       "      <th>20000242</th>\n",
       "      <td>138493</td>\n",
       "      <td>53464</td>\n",
       "    </tr>\n",
       "    <tr>\n",
       "      <th>19999965</th>\n",
       "      <td>138493</td>\n",
       "      <td>1275</td>\n",
       "    </tr>\n",
       "    <tr>\n",
       "      <th>20000154</th>\n",
       "      <td>138493</td>\n",
       "      <td>6996</td>\n",
       "    </tr>\n",
       "    <tr>\n",
       "      <th>19999916</th>\n",
       "      <td>138493</td>\n",
       "      <td>405</td>\n",
       "    </tr>\n",
       "  </tbody>\n",
       "</table>\n",
       "<p>16308608 rows × 2 columns</p>\n",
       "</div>"
      ],
      "text/plain": [
       "          user_id  item_id\n",
       "20              1      924\n",
       "19              1      919\n",
       "86              1     2683\n",
       "61              1     1584\n",
       "23              1     1079\n",
       "...           ...      ...\n",
       "20000140   138493     6534\n",
       "20000242   138493    53464\n",
       "19999965   138493     1275\n",
       "20000154   138493     6996\n",
       "19999916   138493      405\n",
       "\n",
       "[16308608 rows x 2 columns]"
      ]
     },
     "execution_count": 15,
     "metadata": {},
     "output_type": "execute_result"
    }
   ],
   "source": [
    "df"
   ]
  },
  {
   "cell_type": "markdown",
   "metadata": {},
   "source": [
    "16486759 -> 16308608(-1.08%) 인터랙션 수 변동"
   ]
  },
  {
   "cell_type": "markdown",
   "metadata": {},
   "source": [
    "## Split interactions"
   ]
  },
  {
   "cell_type": "code",
   "execution_count": 17,
   "metadata": {},
   "outputs": [],
   "source": [
    "# 유저들을 분리해 세 개의 유저 군으로 분리하는 함수\n",
    "def split_users(df, first_split, second_split, seed=42):\n",
    "    # Get unique user ids\n",
    "    df_unique_users = df['user_id'].unique()\n",
    "\n",
    "    # Split users\n",
    "    first, temp_users = train_test_split(df_unique_users, train_size=first_split, random_state=seed)\n",
    "    second, third = train_test_split(temp_users, train_size=second_split, random_state=seed)\n",
    "\n",
    "    # Create dataframes\n",
    "    first = df[df['user_id'].isin(first)]\n",
    "    second = df[df['user_id'].isin(second)]\n",
    "    third = df[df['user_id'].isin(third)]\n",
    "\n",
    "    return first, second, third"
   ]
  },
  {
   "cell_type": "code",
   "execution_count": 19,
   "metadata": {},
   "outputs": [],
   "source": [
    "train_df, val_df, test_df = split_users(df, first_split=0.8, second_split=0.5, seed=seed)"
   ]
  },
  {
   "cell_type": "code",
   "execution_count": 20,
   "metadata": {},
   "outputs": [],
   "source": [
    "val_1, val_3, tmp = split_users(val_df, first_split=1/5, second_split=1/4, seed=seed)\n",
    "val_5, val_10, val_15 = split_users(tmp, first_split=1/3, second_split=1/2, seed=seed)\n",
    "\n",
    "test_1, test_3, tmp = split_users(test_df, first_split=1/5, second_split=1/4, seed=seed)\n",
    "test_5, test_10, test_15 = split_users(tmp, first_split=1/3, second_split=1/2, seed=seed)"
   ]
  },
  {
   "cell_type": "code",
   "execution_count": 21,
   "metadata": {},
   "outputs": [],
   "source": [
    "# 각 유저에 대해 첫 k개, 다음 n개의 인터랙션을 뽑아내는 함수\n",
    "def split_interactions(df, k, n=5):\n",
    "    # Select first k interactions for each user in df\n",
    "    first_k = df.groupby('user_id').head(k)\n",
    "    # Select following n interactions for each user in df\n",
    "    following_n = df.groupby('user_id').apply(lambda x: x.iloc[k:k+n]).reset_index(drop=True)\n",
    "\n",
    "    return first_k, following_n"
   ]
  },
  {
   "cell_type": "code",
   "execution_count": 22,
   "metadata": {},
   "outputs": [],
   "source": [
    "val_1_k, val_1_n = split_interactions(val_1, k=1, n=5)\n",
    "val_3_k, val_3_n = split_interactions(val_3, k=3, n=5)\n",
    "val_5_k, val_5_n = split_interactions(val_5, k=5, n=5)\n",
    "val_10_k, val_10_n = split_interactions(val_10, k=10, n=5)\n",
    "val_15_k, val_15_n = split_interactions(val_15, k=15, n=5)\n",
    "\n",
    "test_1_k, test_1_n = split_interactions(test_1, k=1, n=5)\n",
    "test_3_k, test_3_n = split_interactions(test_3, k=3, n=5)\n",
    "test_5_k, test_5_n = split_interactions(test_5, k=5, n=5)\n",
    "test_10_k, test_10_n = split_interactions(test_10, k=10, n=5)\n",
    "test_15_k, test_15_n = split_interactions(test_15, k=15, n=5)"
   ]
  },
  {
   "cell_type": "markdown",
   "metadata": {},
   "source": [
    "## Merge data"
   ]
  },
  {
   "cell_type": "markdown",
   "metadata": {},
   "source": [
    "### valt_k, test_k를 train_df에 합침"
   ]
  },
  {
   "cell_type": "code",
   "execution_count": 23,
   "metadata": {},
   "outputs": [],
   "source": [
    "train_data = pd.merge(train_df, val_1_k, how='outer')\n",
    "train_data = pd.merge(train_data, val_3_k, how='outer')\n",
    "train_data = pd.merge(train_data, val_5_k, how='outer')\n",
    "train_data = pd.merge(train_data, val_10_k, how='outer')\n",
    "train_data = pd.merge(train_data, val_15_k, how='outer')\n",
    "\n",
    "train_data = pd.merge(train_data, test_1_k, how='outer')\n",
    "train_data = pd.merge(train_data, test_3_k, how='outer')\n",
    "train_data = pd.merge(train_data, test_5_k, how='outer')\n",
    "train_data = pd.merge(train_data, test_10_k, how='outer')\n",
    "train_data = pd.merge(train_data, test_15_k, how='outer')"
   ]
  },
  {
   "cell_type": "markdown",
   "metadata": {},
   "source": [
    "train에 사용된 인터랙션 데이터 취합"
   ]
  },
  {
   "cell_type": "code",
   "execution_count": 24,
   "metadata": {},
   "outputs": [],
   "source": [
    "val_k = pd.merge(val_1_k, val_3_k, how='outer')\n",
    "val_k = pd.merge(val_k, val_5_k, how='outer')\n",
    "val_k = pd.merge(val_k, val_10_k, how='outer')\n",
    "val_k = pd.merge(val_k, val_15_k, how='outer')\n",
    "\n",
    "test_k = pd.merge(test_1_k, test_3_k, how='outer')\n",
    "test_k = pd.merge(test_k, test_5_k, how='outer')\n",
    "test_k = pd.merge(test_k, test_10_k, how='outer')\n",
    "test_k = pd.merge(test_k, test_15_k, how='outer')"
   ]
  },
  {
   "cell_type": "markdown",
   "metadata": {},
   "source": [
    "정답 데이터 취합"
   ]
  },
  {
   "cell_type": "code",
   "execution_count": 25,
   "metadata": {},
   "outputs": [],
   "source": [
    "val_n = pd.merge(val_1_n, val_3_n, how='outer')\n",
    "val_n = pd.merge(val_n, val_5_n, how='outer')\n",
    "val_n = pd.merge(val_n, val_10_n, how='outer')\n",
    "val_n = pd.merge(val_n, val_15_n, how='outer')\n",
    "\n",
    "test_n = pd.merge(test_1_n, test_3_n, how='outer')\n",
    "test_n = pd.merge(test_n, test_5_n, how='outer')\n",
    "test_n = pd.merge(test_n, test_10_n, how='outer')\n",
    "test_n = pd.merge(test_n, test_15_n, how='outer')"
   ]
  },
  {
   "cell_type": "markdown",
   "metadata": {},
   "source": [
    "# CSV 저장"
   ]
  },
  {
   "cell_type": "code",
   "execution_count": 26,
   "metadata": {},
   "outputs": [],
   "source": [
    "df.to_csv(save_path + 'full.csv', index=False)"
   ]
  },
  {
   "cell_type": "code",
   "execution_count": 27,
   "metadata": {},
   "outputs": [],
   "source": [
    "train_data.to_csv(save_path + 'train.csv', index=False)\n",
    "\n",
    "val_k.to_csv(save_path + 'val_k.csv', index=False)\n",
    "val_n.to_csv(save_path + 'val_n.csv', index=False)\n",
    "\n",
    "test_k.to_csv(save_path + 'test_k.csv', index=False)\n",
    "test_n.to_csv(save_path + 'test_n.csv', index=False)"
   ]
  },
  {
   "cell_type": "code",
   "execution_count": null,
   "metadata": {},
   "outputs": [],
   "source": []
  }
 ],
 "metadata": {
  "kernelspec": {
   "display_name": ".venv",
   "language": "python",
   "name": "python3"
  },
  "language_info": {
   "codemirror_mode": {
    "name": "ipython",
    "version": 3
   },
   "file_extension": ".py",
   "mimetype": "text/x-python",
   "name": "python",
   "nbconvert_exporter": "python",
   "pygments_lexer": "ipython3",
   "version": "3.10.16"
  }
 },
 "nbformat": 4,
 "nbformat_minor": 2
}
